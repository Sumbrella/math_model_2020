{
 "cells": [
  {
   "cell_type": "code",
   "execution_count": 6,
   "metadata": {},
   "outputs": [],
   "source": [
    "import math\n",
    "import pandas as pd\n",
    "import numpy as np\n",
    "N = 40\n",
    "X = pd.read_csv(\"data/X.csv\", index_col=0)\n",
    "subV = [[0 for _ in range(N)] for _ in range(N)]\n",
    "for i in range(N):\n",
    "    for j in range(N):\n",
    "        if X.iat[i, j] > 1:\n",
    "            subV[i][j] = [0 for _ in range(np.int(X.iat[i, j]) - 1)]\n",
    "\n",
    "subV = pd.DataFrame(subV, index=np.arange(1, N + 1), columns=np.arange(1, N + 1))\n",
    "subV[subV==0] = None\n",
    "subV = np.array(subV).tolist()\n",
    "C = np.zeros(N)\n",
    "V = np.zeros(N)\n",
    "\n",
    "\n",
    "def openC(sections):\n",
    "    for section in sections:\n",
    "        C[section - 1] = 1\n",
    "\n",
    "\n",
    "def getSafeValue(distance):\n",
    "    return 1 / (1 + math.exp(distance))\n",
    "\n",
    "\n",
    "def addSafeValue(x):\n",
    "    global V\n",
    "    global subV\n",
    "    if C[x] > 0:\n",
    "        V[x] += 1\n",
    "        for y in range(N):\n",
    "            if subV[x][y] is not None:\n",
    "                d = len(subV[x][y])\n",
    "                V[y] += getSafeValue(d + 1)\n",
    "                for z in range(d):\n",
    "                    subV[x][y][z] += getSafeValue(z + 1)  # 子节点增加安全值。\n",
    "\n",
    "            if subV[x][y] is not None:\n",
    "                d = len(subV[x][y])\n",
    "                for z in range(d):\n",
    "                    subV[y][x][z] += getSafeValue(d - z)\n",
    "\n",
    "\n",
    "def solve(open_sections, file_name):\n",
    "    openC(opensections)\n",
    "    for i in range(N):\n",
    "        addSafeValue(i)\n",
    "    pd.DataFrame(subV).to_csv(\"data/{}.csv\".file_name)\n",
    "    pd.DataFrame(V).to_csv(\"data/{}.csv\".file_name)\n",
    "                    \n",
    "        \n",
    "if __name__ == '__main__':\n",
    "    solve([1,9,18,28,30,33,36,37,38,39,40], 'real')\n"
   ]
  },
  {
   "cell_type": "code",
   "execution_count": null,
   "metadata": {},
   "outputs": [],
   "source": []
  }
 ],
 "metadata": {
  "kernelspec": {
   "display_name": "Python 3",
   "language": "python",
   "name": "python3"
  },
  "language_info": {
   "codemirror_mode": {
    "name": "ipython",
    "version": 3
   },
   "file_extension": ".py",
   "mimetype": "text/x-python",
   "name": "python",
   "nbconvert_exporter": "python",
   "pygments_lexer": "ipython3",
   "version": "3.8.1"
  }
 },
 "nbformat": 4,
 "nbformat_minor": 2
}
